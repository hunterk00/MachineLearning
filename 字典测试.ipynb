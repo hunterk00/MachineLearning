{
 "cells": [
  {
   "cell_type": "code",
   "execution_count": 86,
   "metadata": {},
   "outputs": [
    {
     "name": "stdout",
     "output_type": "stream",
     "text": [
      "  x1 x2\n",
      "0  a  n\n",
      "1  b  m\n",
      "2  c  p\n",
      "3  a  m\n",
      "4  b  m\n",
      "5  a  p\n"
     ]
    },
    {
     "data": {
      "text/plain": [
       "{'a': 3, 'b': 2, 'c': 1}"
      ]
     },
     "execution_count": 86,
     "metadata": {},
     "output_type": "execute_result"
    }
   ],
   "source": [
    "import pandas as pd\n",
    "x = pd.DataFrame(['a','b','c','a','b','a'],columns=['x1'])\n",
    "y = pd.DataFrame(['n','m','p','m','m','p'],columns=['x2'])\n",
    "z = pd.concat([x,y],axis=1)\n",
    "print(z)\n",
    "\n",
    "t = {}\n",
    "for i in x['x1']:\n",
    "    t.setdefault(i,0)\n",
    "    t[i] +=1\n",
    "t"
   ]
  },
  {
   "cell_type": "code",
   "execution_count": 116,
   "metadata": {},
   "outputs": [
    {
     "data": {
      "text/plain": [
       "{'a': 'n', 'b': 'm', 'c': 'p'}"
      ]
     },
     "execution_count": 116,
     "metadata": {},
     "output_type": "execute_result"
    }
   ],
   "source": [
    "bag = {}\n",
    "for i,j in zip(z['x1'],z['x2']):\n",
    "    bag.setdefault(i,j)\n",
    "    t = {bag[i]:0}\n",
    "    t.setdefault(j,0)\n",
    "bag"
   ]
  },
  {
   "cell_type": "code",
   "execution_count": 44,
   "metadata": {},
   "outputs": [
    {
     "data": {
      "text/plain": [
       "{'a': {'m': 2, 'n': 1, 'p': 3},\n",
       " 'b': {'m': 2, 'n': 1, 'p': 3},\n",
       " 'c': {'m': 2, 'n': 1, 'p': 3}}"
      ]
     },
     "execution_count": 44,
     "metadata": {},
     "output_type": "execute_result"
    }
   ],
   "source": [
    "d = {a:{b:c for b,c in zip(y,z)} for a in x}\n",
    "d = {a:{b:c for b,c in zip(y,z)} for a in x}\n",
    "d = {b:c for b in y for c in z}"
   ]
  },
  {
   "cell_type": "code",
   "execution_count": 101,
   "metadata": {},
   "outputs": [
    {
     "name": "stdout",
     "output_type": "stream",
     "text": [
      "{'a': 11, 'c': 3} {'x': {'a': 11, 'c': 3}, 'y': {'b': 4}}\n"
     ]
    }
   ],
   "source": [
    "# 如何构建字典的字典  字典中不能有相同的健\n",
    "p ={'x':{'a':2,'c':3},'y':{'b':4}}\n",
    "t = p['x']\n",
    "t['a']=11\n",
    "print(t,p)"
   ]
  },
  {
   "cell_type": "code",
   "execution_count": 1,
   "metadata": {
    "collapsed": true
   },
   "outputs": [],
   "source": [
    "import graphviz"
   ]
  },
  {
   "cell_type": "code",
   "execution_count": 5,
   "metadata": {},
   "outputs": [
    {
     "name": "stdout",
     "output_type": "stream",
     "text": [
      "[[0 1 2]\n",
      " [3 4 5]\n",
      " [6 7 8]] [[0 1 2]\n",
      " [3 4 5]]\n"
     ]
    }
   ],
   "source": [
    "import numpy as np\n",
    "a = np.arange(9).reshape(3,3)\n",
    "b = np.arange(6).reshape(2,3)\n",
    "print(a,b)"
   ]
  },
  {
   "cell_type": "code",
   "execution_count": 10,
   "metadata": {},
   "outputs": [
    {
     "data": {
      "text/plain": [
       "array([[ 5, 14],\n",
       "       [14, 50],\n",
       "       [23, 86]])"
      ]
     },
     "execution_count": 10,
     "metadata": {},
     "output_type": "execute_result"
    }
   ],
   "source": [
    "np.dot(a,b.T)"
   ]
  },
  {
   "cell_type": "code",
   "execution_count": 14,
   "metadata": {},
   "outputs": [
    {
     "data": {
      "text/plain": [
       "array([[ 5, 14],\n",
       "       [14, 50],\n",
       "       [23, 86]])"
      ]
     },
     "execution_count": 14,
     "metadata": {},
     "output_type": "execute_result"
    }
   ],
   "source": [
    "np.matmul(a,b.T)"
   ]
  },
  {
   "cell_type": "code",
   "execution_count": null,
   "metadata": {
    "collapsed": true
   },
   "outputs": [],
   "source": []
  }
 ],
 "metadata": {
  "kernelspec": {
   "display_name": "Python 3",
   "language": "python",
   "name": "python3"
  },
  "language_info": {
   "codemirror_mode": {
    "name": "ipython",
    "version": 3
   },
   "file_extension": ".py",
   "mimetype": "text/x-python",
   "name": "python",
   "nbconvert_exporter": "python",
   "pygments_lexer": "ipython3",
   "version": "3.6.1"
  }
 },
 "nbformat": 4,
 "nbformat_minor": 2
}
