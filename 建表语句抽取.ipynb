{
 "cells": [
  {
   "cell_type": "code",
   "execution_count": 258,
   "metadata": {
    "collapsed": true
   },
   "outputs": [],
   "source": [
    "# coding=utf-8\n",
    "import numpy as np"
   ]
  },
  {
   "cell_type": "code",
   "execution_count": 276,
   "metadata": {},
   "outputs": [],
   "source": [
    "# 存储设备履历历史信息表'\" # 这个字段没有的 因为 中文的字段名 有相同的 但是英文的没有相同的。\n",
    "path = 'kese20180307.txt'  #手工把数据处理了  ，需要知道如何进行自动化处理\n",
    "\n",
    "def readdata(path):\n",
    "    if 'sql' in path.split('.')[-1]: \n",
    "        print(\"May be you need change the type of data\")\n",
    "    \n",
    "    if 'txt' in path.split('.')[-1]: \n",
    "    \n",
    "        f = open(path,'r',encoding='utf-8')\n",
    "        line = f.readlines() #.decode('utf-8')\n",
    "        data = [i.strip() for i in line if \"COMMENT\" in i]\n",
    "        new_data=[]\n",
    "        for i in data:\n",
    "            _,_,lb,name,*cn_name = i.split(' ')\n",
    "            new_data.append([lb,name.split('.')[-1].replace('\"',\"\"),cn_name[-1].replace(';',\"\")])\n",
    "        \n",
    "        last_data=dict()\n",
    "        last_label=dict()\n",
    "        j=0\n",
    "        for i in range(len(new_data)):\n",
    "            if new_data[i][0]=='TABLE':\n",
    "                j =i\n",
    "                last_data[new_data[i][1]]=new_data[i-j:i]\n",
    "                last_label[new_data[i][1]]=new_data[i][2]   \n",
    "    \n",
    "    return new_data,last_data,last_label"
   ]
  },
  {
   "cell_type": "code",
   "execution_count": 278,
   "metadata": {},
   "outputs": [
    {
     "name": "stdout",
     "output_type": "stream",
     "text": [
      "{'AP_M_ALARMCONFIG': \"'报警配置表'\", 'AP_M_ALARMINFO': \"'报警信息表'\", 'AP_M_ALARMTYPE': \"'报警类型表'\", 'BAS_SOFTINFO': \"'软件上传保存记录'\", 'ES_ENERGY_REGION': \"'区域履历表'\", 'G_B_CODETABLE': \"'公共码表'\", 'JC_B_INSPECTTYPE_DICT': \"'巡检类型字典表'\", 'JC_B_INSPROADSET_DICT': \"'巡检路线配置表'\", 'JC_B_SPINCOPA_DICT': \"'专项巡检核心部件字典表'\", 'JC_B_SPINSPDEVSUBTY_DICT': \"'专项巡检设备子类型字典表'\", 'JC_M_INSPARRANGE': \"'巡检排班表'\", 'JC_M_INSPECTROADTASK': \"'巡检路线业务表'\", 'JC_M_INSPECTSET': \"'巡检配置表'\", 'JC_M_INSPPLAN': \"'巡检计划表'\", 'JC_M_SPINCOPATASK': \"'专项巡检核心部件业务表'\", 'JC_M_SPINDEVDETAILTASK': \"'专项巡检设备详情业务表'\", 'JC_M_SPINDEVSUBTYTASK': \"'专项巡检设备子类型业务表'\", 'JC_M_TISEINSPSET': \"'巡检时间段配置表'\", 'L_LIGHTING': \"'照明控制记录'\", 'L_LIGHTINGMONITORPLAN': \"'照明控制计划'\", 'L_LIGHTING_MODEL': \"'手动控制照明配置'\", 'L_LIGHTTIMER_CONFIGURE': \"'照明时间模式配置'\", 'L_REGIONTAP': \"'照明区域字典表'\", 'L_SENCEMODEL': \"'场景模式配置'\", 'L_SENCENUM': \"'场景号配置'\", 'L_SENSOR_INFO': \"'传感器基础信息表'\", 'MC_SENSOR_LOOP': \"'传感器对应回路表'\", 'MC_SENSOR_THRESHOLD': \"'传感器阈值配置'\", 'MF_B_CHECKLIINE': \"'故障自动审核期限'\", 'MF_B_MALFUNCTION_DICT': \"'故障字典表'\", 'MF_B_MFARRPERSON': \"'故障排班人员表'\", 'MF_B_MFGRADE_DICT': \"'故障等级字典表'\", 'MF_B_MFKLBASE': \"'故障知识库'\", 'MF_B_MFRPSTA_DICT': \"'故障维修状态字典表'\", 'MF_B_MTPROGREESS_DICT': \"'维修进度字典表'\", 'MF_B_MTRESTA_DICT': \"'审核状态字典表'\", 'MF_B_S_MFSOURCE_DICT': \"'故障源字典表'\", 'MF_M_BACKFILLRECORD': \"'工单回填记录表'\", 'MF_M_COREPARTCHANGE': \"'核心部件变更表'\", 'MF_M_MFINFOMT': \"'故障信息维护表'\", 'MF_M_MFINFOMTHIS': \"'故障信息维护历史表'\", 'MF_M_MTDEADLINE': \"'故障维修期限表'\", 'MON_CONTROLHOST': \"控制主机'\", 'MON_EQUIPMENTSTATUS_INFO': \"设备状态信息表'\", 'MON_PROCESSINFO': \"'监测进程信息'\", 'MT_B_MATPROSTATUS_DICT': \"'保养进度状态字典表'\", 'MT_B_MATREBILLMAPL': \"'保养工单审核及生成计划表'\", 'MT_B_MATREVIEW_DICT': \"'保养审核字典表'\", 'MT_B_MATTYPE_DICT': \"'保养类型字典表'\", 'MT_M_CIRCLE': \"'保养周期表'\", 'MT_M_COREPARTCHANGE': \"'保养核心部件变更表'\", 'MT_M_MAINTAINSET': \"'保养配置表'\", 'MT_M_MATARRANGE': \"'保养排班表'\", 'MT_M_MATPLAN': \"'保养计划表'\", 'MT_M_MATPLAN_OPERATORS': \"'保养计划执行人表'\", 'MT_M_MATTASKORERATORS': \"'保养任务执行人'\", 'MT_M_MTCONTENT': \"'保养内容字典表'\", 'MT_M_ORDERBACK': \"'保养回填表'\", 'PD_B_AREATYPE_DICT': \"'存储区域类型信息表'\", 'PD_B_BLUETOOTH_DICT': \"'存储设备履历历史信息表'\", 'PD_B_COREPART_DICT': \"'核心部件字典表'\", 'PD_B_DEVCOMPANY_DICT': \"'存储设备厂商信息表'\", 'PD_B_DEVSTATUS_DICT': \"'存储设备状态表'\", 'PD_B_DEVSUBTYPE_DICT': \"'设备子类型表'\", 'PD_B_DEVTYPE_DICT': \"'设备类型表'\", 'PD_B_DEV_SPECIALPARA_DICT': \"'设备特殊参数字典表'\", 'PD_B_SUBAREATYPE_DICT': \"'子区域类型表'\", 'PD_M_COMP_DEVTYPE': \"'厂商设备明细表'\", 'PD_M_COREPART': \"'核心部件业务信息表'\", 'PD_M_DEV_RECORD': \"'设备履历信息表'\", 'PD_M_DEV_RECORD_HIS': \"'存储设备履历历史信息表'\", 'PD_M_DEV_SPECIALPARA': \"'设备特殊参数业务表'\", 'RES_COMPONENT_DICT': \"'设备部件表'\", 'RES_COMPONENT_HISTORY': \"设备部件履历信息'\", 'RES_COMPONENT_RESUME': \"'设备部件履历信息'\", 'SP_B_SPAREPART_DICT': \"'备品备件字典表'\", 'SP_B_STOREHOUSE_DICT': \"'仓库字典表'\", 'SP_M_SCRAPRECORD': \"'报废记录表'\", 'SP_M_SPAREPARTSINFO': \"'备件信息'\", 'SP_M_STOCKINAPP': \"'入库申请表'\", 'SP_M_STOCKINDETAIL': \"'入库申请记录表'\", 'SP_M_STOCKOUTDETAIL': \"'出库申请记录表'\", 'SP_STOCKOUTAPP': \"'出库申请单'\", 'SP_THRESHOLDCONFIGURATION': \"'阈值配置'\", 'SYS_AREA': \"'行政区域表'\", 'SYS_DBBACKUP': \"'数据库备份'\", 'SYS_FILTERIP': \"'过滤IP'\", 'SYS_ITEMS': \"'选项主表'\", 'SYS_ITEMSDETAIL': \"'选项明细表'\", 'SYS_LOG': \"'系统日志'\", 'SYS_MODULE': \"'系统模块'\", 'SYS_MODULEBUTTON': \"'模块按钮'\", 'SYS_ORGANIZE': \"'组织表'\", 'SYS_ROLE': \"'角色表'\", 'SYS_ROLEAUTHORIZE': \"'角色授权表'\", 'SYS_STATIONINFO': \"'客站信息表'\", 'SYS_USER': \"'用户表'\", 'SYS_USERLOGON': \"'用户登录信息表'\", 'SYS_USUALMODULE': \"'常用菜单表'\", 'WM_B_ARRTEAMPERSON': \"'排班班组人员配置表'\", 'WM_B_ARRTEAMSET': \"'排班班组配置表'\", 'WM_B_TEAMPERSONSET': \"'班组人员配置表'\", 'WM_M_ARRJOBTASK': \"'排班作业业务表'\", 'WM_M_ARRSET': \"'排班配置业务表（配置对象）'\", 'WM_M_ARR_DATE': \"'排班日期表'\", 'WM_M_ARR_DATETEAM': \"'排班日期班组对应表'\"}\n",
      "dict_keys(['AP_M_ALARMCONFIG', 'AP_M_ALARMINFO', 'AP_M_ALARMTYPE', 'BAS_SOFTINFO', 'ES_ENERGY_REGION', 'G_B_CODETABLE', 'JC_B_INSPECTTYPE_DICT', 'JC_B_INSPROADSET_DICT', 'JC_B_SPINCOPA_DICT', 'JC_B_SPINSPDEVSUBTY_DICT', 'JC_M_INSPARRANGE', 'JC_M_INSPECTROADTASK', 'JC_M_INSPECTSET', 'JC_M_INSPPLAN', 'JC_M_SPINCOPATASK', 'JC_M_SPINDEVDETAILTASK', 'JC_M_SPINDEVSUBTYTASK', 'JC_M_TISEINSPSET', 'L_LIGHTING', 'L_LIGHTINGMONITORPLAN', 'L_LIGHTING_MODEL', 'L_LIGHTTIMER_CONFIGURE', 'L_REGIONTAP', 'L_SENCEMODEL', 'L_SENCENUM', 'L_SENSOR_INFO', 'MC_SENSOR_LOOP', 'MC_SENSOR_THRESHOLD', 'MF_B_CHECKLIINE', 'MF_B_MALFUNCTION_DICT', 'MF_B_MFARRPERSON', 'MF_B_MFGRADE_DICT', 'MF_B_MFKLBASE', 'MF_B_MFRPSTA_DICT', 'MF_B_MTPROGREESS_DICT', 'MF_B_MTRESTA_DICT', 'MF_B_S_MFSOURCE_DICT', 'MF_M_BACKFILLRECORD', 'MF_M_COREPARTCHANGE', 'MF_M_MFINFOMT', 'MF_M_MFINFOMTHIS', 'MF_M_MTDEADLINE', 'MON_CONTROLHOST', 'MON_EQUIPMENTSTATUS_INFO', 'MON_PROCESSINFO', 'MT_B_MATPROSTATUS_DICT', 'MT_B_MATREBILLMAPL', 'MT_B_MATREVIEW_DICT', 'MT_B_MATTYPE_DICT', 'MT_M_CIRCLE', 'MT_M_COREPARTCHANGE', 'MT_M_MAINTAINSET', 'MT_M_MATARRANGE', 'MT_M_MATPLAN', 'MT_M_MATPLAN_OPERATORS', 'MT_M_MATTASKORERATORS', 'MT_M_MTCONTENT', 'MT_M_ORDERBACK', 'PD_B_AREATYPE_DICT', 'PD_B_BLUETOOTH_DICT', 'PD_B_COREPART_DICT', 'PD_B_DEVCOMPANY_DICT', 'PD_B_DEVSTATUS_DICT', 'PD_B_DEVSUBTYPE_DICT', 'PD_B_DEVTYPE_DICT', 'PD_B_DEV_SPECIALPARA_DICT', 'PD_B_SUBAREATYPE_DICT', 'PD_M_COMP_DEVTYPE', 'PD_M_COREPART', 'PD_M_DEV_RECORD', 'PD_M_DEV_RECORD_HIS', 'PD_M_DEV_SPECIALPARA', 'RES_COMPONENT_DICT', 'RES_COMPONENT_HISTORY', 'RES_COMPONENT_RESUME', 'SP_B_SPAREPART_DICT', 'SP_B_STOREHOUSE_DICT', 'SP_M_SCRAPRECORD', 'SP_M_SPAREPARTSINFO', 'SP_M_STOCKINAPP', 'SP_M_STOCKINDETAIL', 'SP_M_STOCKOUTDETAIL', 'SP_STOCKOUTAPP', 'SP_THRESHOLDCONFIGURATION', 'SYS_AREA', 'SYS_DBBACKUP', 'SYS_FILTERIP', 'SYS_ITEMS', 'SYS_ITEMSDETAIL', 'SYS_LOG', 'SYS_MODULE', 'SYS_MODULEBUTTON', 'SYS_ORGANIZE', 'SYS_ROLE', 'SYS_ROLEAUTHORIZE', 'SYS_STATIONINFO', 'SYS_USER', 'SYS_USERLOGON', 'SYS_USUALMODULE', 'WM_B_ARRTEAMPERSON', 'WM_B_ARRTEAMSET', 'WM_B_TEAMPERSONSET', 'WM_M_ARRJOBTASK', 'WM_M_ARRSET', 'WM_M_ARR_DATE', 'WM_M_ARR_DATETEAM'])\n"
     ]
    }
   ],
   "source": [
    "# 得到数据集，现在是如何将sql文件转化为\n",
    "new_data,last_data,last_label=readdata(path)\n",
    "print(last_label)\n",
    "print(last_data.keys())"
   ]
  },
  {
   "cell_type": "code",
   "execution_count": 273,
   "metadata": {},
   "outputs": [],
   "source": [
    "last_data=dict()\n",
    "last_label={}\n",
    "j=0\n",
    "for i in range(len(new_data)):\n",
    "    if new_data[i][0]=='TABLE':\n",
    "        j =i\n",
    "        last_data[new_data[i][1]]=new_data[i-j:i]\n",
    "        last_label[new_data[i][1]]=new_data[i][2]   "
   ]
  },
  {
   "cell_type": "code",
   "execution_count": 179,
   "metadata": {},
   "outputs": [
    {
     "name": "stdout",
     "output_type": "stream",
     "text": [
      "['COLUMN', 'S_ALARMCODE', \"'报警配置编码'\"]\n",
      "['COLUMN', 'S_ALARMTYPECODE', \"'报警类型编码'\"]\n",
      "['COLUMN', 'S_ALARMTIME', \"'报警时间长'\"]\n",
      "['COLUMN', 'S_ALARMEVENT', \"'报警事件'\"]\n",
      "['COLUMN', 'S_ALARMEARLY', \"'报警提前时间'\"]\n",
      "['TABLE', 'AP_M_ALARMCONFIG', \"'报警配置表'\"]\n"
     ]
    }
   ],
   "source": [
    "for i in data[:6]:\n",
    "    _,_,lb,name,*cn_name = i.split(' ')\n",
    "    t = [lb,name.split('.')[-1].replace('\"',\"\"),cn_name[-1].replace(';',\"\")]\n",
    "    print(t)"
   ]
  },
  {
   "cell_type": "code",
   "execution_count": 134,
   "metadata": {},
   "outputs": [
    {
     "data": {
      "text/plain": [
       "'\\nimport re\\nd_reg = re.compile(r\"COMMENT.*\")\\ndata = []\\nfor i in line[:240]:\\n    i = i.strip()\\n    #if \"COMMENT\" in i:\\n        #print(i)\\n    i = d_reg.search(i)\\n    print(i)\\n'"
      ]
     },
     "execution_count": 134,
     "metadata": {},
     "output_type": "execute_result"
    }
   ],
   "source": [
    "\"\"\"\n",
    "import re\n",
    "d_reg = re.compile(r\"COMMENT.*\")\n",
    "data = []\n",
    "for i in line[:240]:\n",
    "    i = i.strip()\n",
    "    #if \"COMMENT\" in i:\n",
    "        #print(i)\n",
    "    i = d_reg.search(i)\n",
    "    print(i)\n",
    "\"\"\""
   ]
  },
  {
   "cell_type": "code",
   "execution_count": null,
   "metadata": {
    "collapsed": true
   },
   "outputs": [],
   "source": [
    "# 也能够抽取数据，只不过，会报错，有些中文的  或者说 需要的 字符还是能抽取的，。\n",
    "\n",
    "path = 'kese20180307.sql'\n",
    "# -*- coding: utf-8 -*-\n",
    "f = open(path)\n",
    "lines = f.readline()\n",
    "while lines:\n",
    "    print(lines)\n",
    "    lines = f.readline()\n",
    "\n",
    "    \n",
    "\"\"\"\n",
    "fp = open(filename+\".tsv\",'rb')\n",
    "out = open(filename+'_utf8.tsv','bw')\n",
    "i=1\n",
    "for content in fp:\n",
    "    result=content.decode('unicode-escape').encode('utf-8')\n",
    "\"\"\""
   ]
  }
 ],
 "metadata": {
  "kernelspec": {
   "display_name": "Python 3",
   "language": "python",
   "name": "python3"
  },
  "language_info": {
   "codemirror_mode": {
    "name": "ipython",
    "version": 3
   },
   "file_extension": ".py",
   "mimetype": "text/x-python",
   "name": "python",
   "nbconvert_exporter": "python",
   "pygments_lexer": "ipython3",
   "version": "3.6.1"
  }
 },
 "nbformat": 4,
 "nbformat_minor": 2
}
